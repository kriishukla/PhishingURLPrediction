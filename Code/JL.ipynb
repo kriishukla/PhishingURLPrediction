{
 "cells": [
  {
   "cell_type": "code",
   "execution_count": 1,
   "metadata": {},
   "outputs": [],
   "source": [
    "# All the libraries involved.\n",
    "\n",
    "import pandas as pd\n",
    "import matplotlib.pyplot as plt\n",
    "import numpy as np\n",
    "\n",
    "from sklearn.ensemble import RandomForestClassifier, GradientBoostingClassifier\n",
    "from sklearn.model_selection import train_test_split, GridSearchCV\n",
    "from sklearn.metrics import accuracy_score"
   ]
  },
  {
   "cell_type": "code",
   "execution_count": 2,
   "metadata": {},
   "outputs": [
    {
     "data": {
      "text/html": [
       "<div>\n",
       "<style scoped>\n",
       "    .dataframe tbody tr th:only-of-type {\n",
       "        vertical-align: middle;\n",
       "    }\n",
       "\n",
       "    .dataframe tbody tr th {\n",
       "        vertical-align: top;\n",
       "    }\n",
       "\n",
       "    .dataframe thead th {\n",
       "        text-align: right;\n",
       "    }\n",
       "</style>\n",
       "<table border=\"1\" class=\"dataframe\">\n",
       "  <thead>\n",
       "    <tr style=\"text-align: right;\">\n",
       "      <th></th>\n",
       "      <th>URLLength</th>\n",
       "      <th>DomainLength</th>\n",
       "      <th>IsDomainIP</th>\n",
       "      <th>TLD</th>\n",
       "      <th>TLDLength</th>\n",
       "      <th>NoOfSubDomain</th>\n",
       "      <th>NoOfLettersInURL</th>\n",
       "      <th>NoOfDegitsInURL</th>\n",
       "      <th>NoOfEqualsInURL</th>\n",
       "      <th>NoOfQMarkInURL</th>\n",
       "      <th>...</th>\n",
       "      <th>NoOfiFrame</th>\n",
       "      <th>HasExternalFormSubmit</th>\n",
       "      <th>HasHiddenFields</th>\n",
       "      <th>HasPasswordField</th>\n",
       "      <th>Bank</th>\n",
       "      <th>Pay</th>\n",
       "      <th>Crypto</th>\n",
       "      <th>NoOfCSS</th>\n",
       "      <th>NoOfEmptyRef</th>\n",
       "      <th>label</th>\n",
       "    </tr>\n",
       "  </thead>\n",
       "  <tbody>\n",
       "    <tr>\n",
       "      <th>0</th>\n",
       "      <td>-0.891300</td>\n",
       "      <td>-1.437329</td>\n",
       "      <td>0</td>\n",
       "      <td>191</td>\n",
       "      <td>-1.449374</td>\n",
       "      <td>-1.934269</td>\n",
       "      <td>-0.789202</td>\n",
       "      <td>0.119473</td>\n",
       "      <td>-0.119462</td>\n",
       "      <td>-0.146444</td>\n",
       "      <td>...</td>\n",
       "      <td>-0.346864</td>\n",
       "      <td>0</td>\n",
       "      <td>0</td>\n",
       "      <td>0</td>\n",
       "      <td>0</td>\n",
       "      <td>0</td>\n",
       "      <td>0</td>\n",
       "      <td>-0.519592</td>\n",
       "      <td>-0.292089</td>\n",
       "      <td>0</td>\n",
       "    </tr>\n",
       "    <tr>\n",
       "      <th>1</th>\n",
       "      <td>0.019356</td>\n",
       "      <td>0.603674</td>\n",
       "      <td>0</td>\n",
       "      <td>179</td>\n",
       "      <td>0.524801</td>\n",
       "      <td>-0.250327</td>\n",
       "      <td>0.196725</td>\n",
       "      <td>-0.356586</td>\n",
       "      <td>-0.119462</td>\n",
       "      <td>-0.146444</td>\n",
       "      <td>...</td>\n",
       "      <td>-0.346864</td>\n",
       "      <td>0</td>\n",
       "      <td>0</td>\n",
       "      <td>0</td>\n",
       "      <td>0</td>\n",
       "      <td>0</td>\n",
       "      <td>0</td>\n",
       "      <td>-0.519592</td>\n",
       "      <td>-0.292089</td>\n",
       "      <td>0</td>\n",
       "    </tr>\n",
       "    <tr>\n",
       "      <th>2</th>\n",
       "      <td>0.360852</td>\n",
       "      <td>1.113925</td>\n",
       "      <td>0</td>\n",
       "      <td>179</td>\n",
       "      <td>0.524801</td>\n",
       "      <td>-0.250327</td>\n",
       "      <td>0.126302</td>\n",
       "      <td>1.071590</td>\n",
       "      <td>-0.119462</td>\n",
       "      <td>-0.146444</td>\n",
       "      <td>...</td>\n",
       "      <td>-0.346864</td>\n",
       "      <td>0</td>\n",
       "      <td>1</td>\n",
       "      <td>0</td>\n",
       "      <td>1</td>\n",
       "      <td>1</td>\n",
       "      <td>0</td>\n",
       "      <td>-0.225707</td>\n",
       "      <td>-0.292089</td>\n",
       "      <td>0</td>\n",
       "    </tr>\n",
       "    <tr>\n",
       "      <th>3</th>\n",
       "      <td>0.360852</td>\n",
       "      <td>1.241488</td>\n",
       "      <td>0</td>\n",
       "      <td>112</td>\n",
       "      <td>0.524801</td>\n",
       "      <td>-0.250327</td>\n",
       "      <td>0.619265</td>\n",
       "      <td>-0.356586</td>\n",
       "      <td>-0.119462</td>\n",
       "      <td>-0.146444</td>\n",
       "      <td>...</td>\n",
       "      <td>-0.346864</td>\n",
       "      <td>0</td>\n",
       "      <td>0</td>\n",
       "      <td>0</td>\n",
       "      <td>0</td>\n",
       "      <td>0</td>\n",
       "      <td>0</td>\n",
       "      <td>-0.519592</td>\n",
       "      <td>-0.292089</td>\n",
       "      <td>0</td>\n",
       "    </tr>\n",
       "    <tr>\n",
       "      <th>4</th>\n",
       "      <td>-0.549804</td>\n",
       "      <td>-0.671953</td>\n",
       "      <td>0</td>\n",
       "      <td>179</td>\n",
       "      <td>0.524801</td>\n",
       "      <td>1.433615</td>\n",
       "      <td>-0.648355</td>\n",
       "      <td>-0.118556</td>\n",
       "      <td>-0.119462</td>\n",
       "      <td>-0.146444</td>\n",
       "      <td>...</td>\n",
       "      <td>-0.346864</td>\n",
       "      <td>0</td>\n",
       "      <td>0</td>\n",
       "      <td>0</td>\n",
       "      <td>0</td>\n",
       "      <td>0</td>\n",
       "      <td>0</td>\n",
       "      <td>-0.519592</td>\n",
       "      <td>-0.292089</td>\n",
       "      <td>0</td>\n",
       "    </tr>\n",
       "  </tbody>\n",
       "</table>\n",
       "<p>5 rows × 34 columns</p>\n",
       "</div>"
      ],
      "text/plain": [
       "   URLLength  DomainLength  IsDomainIP  TLD  TLDLength  NoOfSubDomain  \\\n",
       "0  -0.891300     -1.437329           0  191  -1.449374      -1.934269   \n",
       "1   0.019356      0.603674           0  179   0.524801      -0.250327   \n",
       "2   0.360852      1.113925           0  179   0.524801      -0.250327   \n",
       "3   0.360852      1.241488           0  112   0.524801      -0.250327   \n",
       "4  -0.549804     -0.671953           0  179   0.524801       1.433615   \n",
       "\n",
       "   NoOfLettersInURL  NoOfDegitsInURL  NoOfEqualsInURL  NoOfQMarkInURL  ...  \\\n",
       "0         -0.789202         0.119473        -0.119462       -0.146444  ...   \n",
       "1          0.196725        -0.356586        -0.119462       -0.146444  ...   \n",
       "2          0.126302         1.071590        -0.119462       -0.146444  ...   \n",
       "3          0.619265        -0.356586        -0.119462       -0.146444  ...   \n",
       "4         -0.648355        -0.118556        -0.119462       -0.146444  ...   \n",
       "\n",
       "   NoOfiFrame  HasExternalFormSubmit  HasHiddenFields  HasPasswordField  Bank  \\\n",
       "0   -0.346864                      0                0                 0     0   \n",
       "1   -0.346864                      0                0                 0     0   \n",
       "2   -0.346864                      0                1                 0     1   \n",
       "3   -0.346864                      0                0                 0     0   \n",
       "4   -0.346864                      0                0                 0     0   \n",
       "\n",
       "   Pay  Crypto   NoOfCSS  NoOfEmptyRef  label  \n",
       "0    0       0 -0.519592     -0.292089      0  \n",
       "1    0       0 -0.519592     -0.292089      0  \n",
       "2    1       0 -0.225707     -0.292089      0  \n",
       "3    0       0 -0.519592     -0.292089      0  \n",
       "4    0       0 -0.519592     -0.292089      0  \n",
       "\n",
       "[5 rows x 34 columns]"
      ]
     },
     "execution_count": 2,
     "metadata": {},
     "output_type": "execute_result"
    }
   ],
   "source": [
    "dataset = pd.read_csv('../Datasets/data_with_normalization.csv') # Data already normalized pre-midsem.\n",
    "\n",
    "# Removing the non-numerical columns\n",
    "dataset = dataset.drop(columns=['URL', 'Domain', 'Title'])\n",
    "dataset.head()"
   ]
  },
  {
   "cell_type": "code",
   "execution_count": 3,
   "metadata": {},
   "outputs": [
    {
     "name": "stdout",
     "output_type": "stream",
     "text": [
      "URLLength                     float64\n",
      "DomainLength                  float64\n",
      "IsDomainIP                      int64\n",
      "TLD                             int64\n",
      "TLDLength                     float64\n",
      "NoOfSubDomain                 float64\n",
      "NoOfLettersInURL              float64\n",
      "NoOfDegitsInURL               float64\n",
      "NoOfEqualsInURL               float64\n",
      "NoOfQMarkInURL                float64\n",
      "NoOfAmpersandInURL            float64\n",
      "NoOfOtherSpecialCharsInURL    float64\n",
      "IsHTTPS                         int64\n",
      "LineOfCode                    float64\n",
      "LargestLineLength             float64\n",
      "HasTitle                        int64\n",
      "URLTitleMatchScore            float64\n",
      "HasFavicon                      int64\n",
      "Robots                        float64\n",
      "IsResponsive                    int64\n",
      "NoOfURLRedirect               float64\n",
      "NoOfSelfRedirect              float64\n",
      "HasDescription                  int64\n",
      "NoOfPopup                     float64\n",
      "NoOfiFrame                    float64\n",
      "HasExternalFormSubmit           int64\n",
      "HasHiddenFields                 int64\n",
      "HasPasswordField                int64\n",
      "Bank                            int64\n",
      "Pay                             int64\n",
      "Crypto                          int64\n",
      "NoOfCSS                       float64\n",
      "NoOfEmptyRef                  float64\n",
      "label                           int64\n",
      "dtype: object\n"
     ]
    }
   ],
   "source": [
    "print(dataset.dtypes)"
   ]
  },
  {
   "cell_type": "code",
   "execution_count": 4,
   "metadata": {},
   "outputs": [],
   "source": [
    "feature_vars = dataset.columns.to_list()\n",
    "feature_vars.remove('label')\n",
    "target_var = 'label'\n",
    "\n",
    "X = dataset[feature_vars].to_numpy()\n",
    "Y = dataset[target_var].to_numpy()\n",
    "\n",
    "# Splitting into Train and Test\n",
    "X_Train, X_Test, Y_Train, Y_Test = train_test_split(X, Y, test_size = 0.3, random_state = 42, stratify = Y)"
   ]
  },
  {
   "cell_type": "markdown",
   "metadata": {},
   "source": [
    "## ML MODEL"
   ]
  },
  {
   "cell_type": "markdown",
   "metadata": {},
   "source": [
    "Random Forests"
   ]
  },
  {
   "cell_type": "code",
   "execution_count": 17,
   "metadata": {},
   "outputs": [
    {
     "name": "stdout",
     "output_type": "stream",
     "text": [
      "Fitting 5 folds for each of 243 candidates, totalling 1215 fits\n",
      "Best Parameters: {'criterion': 'log_loss', 'max_depth': 30, 'max_features': 'sqrt', 'min_samples_leaf': 1, 'min_samples_split': 2}\n",
      "Best Cross-validation Score: 0.9997080474967708\n"
     ]
    }
   ],
   "source": [
    "RF_Model = RandomForestClassifier(n_estimators=100)\n",
    "\n",
    "parameters = {\n",
    "    'max_depth' : [None, 10, 30],\n",
    "    'criterion' : ['gini', 'entropy', 'log_loss'],\n",
    "    'min_samples_split' : [2, 10, 20],\n",
    "    'min_samples_leaf' : [1, 5, 10],\n",
    "    'max_features' : ['sqrt', 'log2', 0.5]\n",
    "}\n",
    "\n",
    "fine_tune_model = GridSearchCV(RF_Model, parameters, cv = 5, scoring = 'accuracy', verbose = 3, n_jobs = -10)\n",
    "fine_tune_model.fit(X_Train, Y_Train)\n",
    "\n",
    "print(\"Best Parameters:\", fine_tune_model.best_params_)\n",
    "print(\"Best Cross-validation Score:\", fine_tune_model.best_score_)"
   ]
  },
  {
   "cell_type": "code",
   "execution_count": 5,
   "metadata": {},
   "outputs": [
    {
     "name": "stdout",
     "output_type": "stream",
     "text": [
      "Test Accuracy: 99.975\n",
      "Train Accuracy: 1.0\n"
     ]
    }
   ],
   "source": [
    "RF_Model = RandomForestClassifier(n_estimators = 1000, criterion = 'log_loss', max_depth = 30, max_features = 'sqrt', min_samples_leaf = 1, min_samples_split = 2, n_jobs = -1, random_state = 42)\n",
    "RF_Model.fit(X_Train, Y_Train)\n",
    "\n",
    "Y_RF = RF_Model.predict(X_Test)\n",
    "Y_Train_Pred_RF = RF_Model.predict(X_Train)\n",
    "\n",
    "accuracy_test = accuracy_score(Y_Test, Y_RF)\n",
    "accuracy_test = round(accuracy_test*100,3)\n",
    "\n",
    "accuracy_train = accuracy_score(Y_Train, Y_Train_Pred_RF)\n",
    "# accuracy_train = round(accuracy_train * 100, 3)\n",
    "\n",
    "print(\"Test Accuracy:\", accuracy_test)\n",
    "print(\"Train Accuracy:\", accuracy_train)"
   ]
  },
  {
   "cell_type": "markdown",
   "metadata": {},
   "source": [
    "Gradient Boosting"
   ]
  },
  {
   "cell_type": "code",
   "execution_count": 6,
   "metadata": {},
   "outputs": [
    {
     "name": "stdout",
     "output_type": "stream",
     "text": [
      "Fitting 5 folds for each of 324 candidates, totalling 1620 fits\n",
      "Best Parameters: {'criterion': 'squared_error', 'learning_rate': 0.1, 'loss': 'log_loss', 'max_depth': 10, 'max_features': 'sqrt', 'min_samples_split': 10}\n",
      "Best Cross-validation Score: 0.9997234126102352\n"
     ]
    }
   ],
   "source": [
    "GB_model = GradientBoostingClassifier(random_state = 42)\n",
    "\n",
    "parameters = {\n",
    "    'loss' : ['log_loss', 'exponential'],\n",
    "    'learning_rate' : [1e-4, 1e-2, 0.1],\n",
    "    'criterion' : ['friedman_mse', 'squared_error'],\n",
    "    'max_features' : ['sqrt', 'log2', None],\n",
    "    'min_samples_split' : [2, 5, 10],\n",
    "    'max_depth' : [2, 5, 10]\n",
    "}\n",
    "\n",
    "fine_tune_model = GridSearchCV(GB_model, parameters, cv = 5, scoring = 'accuracy', verbose = 3, n_jobs = -10)\n",
    "fine_tune_model.fit(X_Train, Y_Train)\n",
    "\n",
    "print(\"Best Parameters:\", fine_tune_model.best_params_)\n",
    "print(\"Best Cross-validation Score:\", fine_tune_model.best_score_)"
   ]
  },
  {
   "cell_type": "code",
   "execution_count": 6,
   "metadata": {},
   "outputs": [
    {
     "name": "stdout",
     "output_type": "stream",
     "text": [
      "Test Accuracy: 99.978\n",
      "Train Accuracy: 1.0\n"
     ]
    }
   ],
   "source": [
    "GB_Model = GradientBoostingClassifier(n_estimators = 1000, criterion = 'squared_error', learning_rate = 0.1, loss = 'log_loss', max_depth = 10, max_features = 'sqrt', min_samples_split = 10, random_state = 42)\n",
    "GB_Model.fit(X_Train, Y_Train)\n",
    "\n",
    "Y_GB = GB_Model.predict(X_Test)\n",
    "Y_Train_Pred_GB = GB_Model.predict(X_Train)\n",
    "\n",
    "accuracy_test = accuracy_score(Y_Test, Y_GB)\n",
    "accuracy_test = round(accuracy_test*100,3)\n",
    "\n",
    "accuracy_train = accuracy_score(Y_Train, Y_Train_Pred_GB)\n",
    "# accuracy_train = round(accuracy_train * 100, 3)\n",
    "\n",
    "print(\"Test Accuracy:\", accuracy_test)\n",
    "print(\"Train Accuracy:\", accuracy_train)"
   ]
  },
  {
   "cell_type": "markdown",
   "metadata": {},
   "source": [
    "## SCALING"
   ]
  },
  {
   "cell_type": "code",
   "execution_count": 7,
   "metadata": {},
   "outputs": [],
   "source": [
    "n = np.shape(X)[0] # No. of Features\n",
    "d = np.shape(X)[1] # No. of Dimensions in Original Data\n",
    "k = 10 # Dimension we want to reduce to, using JL.\n",
    "\n",
    "JL_matrix = np.random.normal(loc = 0, scale = 0.01, size=(d, k)) # Variance of JL Matrix = 1/k = 0.1. Std Dev = 0.01\n",
    "Scaled_X_Train = X_Train @ JL_matrix\n",
    "Scaled_X_Test = X_Test @ JL_matrix"
   ]
  },
  {
   "cell_type": "code",
   "execution_count": 8,
   "metadata": {},
   "outputs": [
    {
     "name": "stdout",
     "output_type": "stream",
     "text": [
      "Test Accuracy: 99.075\n",
      "Train Accuracy: 1.0\n"
     ]
    }
   ],
   "source": [
    "RF_Model = RandomForestClassifier(n_estimators = 1000, criterion = 'log_loss', max_depth = 30, max_features = 'sqrt', min_samples_leaf = 1, min_samples_split = 2, n_jobs = -1, random_state = 42)\n",
    "RF_Model.fit(Scaled_X_Train, Y_Train)\n",
    "\n",
    "Y_RF = RF_Model.predict(Scaled_X_Test)\n",
    "Y_Train_Pred_RF = RF_Model.predict(Scaled_X_Train)\n",
    "\n",
    "accuracy_test = accuracy_score(Y_Test, Y_RF)\n",
    "accuracy_test = round(accuracy_test*100,3)\n",
    "\n",
    "accuracy_train = accuracy_score(Y_Train, Y_Train_Pred_RF)\n",
    "# accuracy_train = round(accuracy_train * 100, 3)\n",
    "\n",
    "print(\"Test Accuracy:\", accuracy_test)\n",
    "print(\"Train Accuracy:\", accuracy_train)"
   ]
  },
  {
   "cell_type": "code",
   "execution_count": 9,
   "metadata": {},
   "outputs": [
    {
     "name": "stdout",
     "output_type": "stream",
     "text": [
      "Test Accuracy: 99.308\n",
      "Train Accuracy: 1.0\n"
     ]
    }
   ],
   "source": [
    "GB_Model = GradientBoostingClassifier(n_estimators = 1000, criterion = 'squared_error', learning_rate = 0.1, loss = 'log_loss', max_depth = 10, max_features = 'sqrt', min_samples_split = 10, random_state = 42)\n",
    "GB_Model.fit(Scaled_X_Train, Y_Train)\n",
    "\n",
    "Y_GB = GB_Model.predict(Scaled_X_Test)\n",
    "Y_Train_Pred_GB = GB_Model.predict(Scaled_X_Train)\n",
    "\n",
    "accuracy_test = accuracy_score(Y_Test, Y_GB)\n",
    "accuracy_test = round(accuracy_test*100,3)\n",
    "\n",
    "accuracy_train = accuracy_score(Y_Train, Y_Train_Pred_GB)\n",
    "# accuracy_train = round(accuracy_train * 100, 3)\n",
    "\n",
    "print(\"Test Accuracy:\", accuracy_test)\n",
    "print(\"Train Accuracy:\", accuracy_train)"
   ]
  },
  {
   "cell_type": "markdown",
   "metadata": {},
   "source": [
    "Trying a Sparse JL Matrix as Well to Reduce Even More Computation Time"
   ]
  },
  {
   "cell_type": "code",
   "execution_count": 10,
   "metadata": {},
   "outputs": [],
   "source": [
    "# Sparsity will be 90%, so 90% of entries -> 0 and the rest are either -1 or 1 with equal probability to keep variance of each row \"norm of data matrix / k\".\n",
    "\n",
    "outcomes = [-1, 0, 1]\n",
    "probabilities = [0.05, 0.9, 0.05]\n",
    "JL_Scaled = np.random.choice(outcomes, size = (d, k), p = probabilities)"
   ]
  },
  {
   "cell_type": "code",
   "execution_count": 11,
   "metadata": {},
   "outputs": [
    {
     "name": "stdout",
     "output_type": "stream",
     "text": [
      "Test Accuracy from RF and Scaling with Sparse Matrix: 99.875\n",
      "Train Accuracy from RF and Scaling with Sparse Matrix: 1.0\n"
     ]
    }
   ],
   "source": [
    "Scaled_X_Train = X_Train @ JL_Scaled\n",
    "Scaled_X_Test = X_Test @ JL_Scaled\n",
    "\n",
    "RF_Model = RandomForestClassifier(n_estimators = 1000, criterion = 'log_loss', max_depth = 30, max_features = 'sqrt', min_samples_leaf = 1, min_samples_split = 2, n_jobs = -1, random_state = 42)\n",
    "RF_Model.fit(Scaled_X_Train, Y_Train)\n",
    "\n",
    "Y_RF = RF_Model.predict(Scaled_X_Test)\n",
    "Y_Train_Pred_RF = RF_Model.predict(Scaled_X_Train)\n",
    "\n",
    "accuracy_test = accuracy_score(Y_Test, Y_RF)\n",
    "accuracy_test = round(accuracy_test*100,3)\n",
    "\n",
    "accuracy_train = accuracy_score(Y_Train, Y_Train_Pred_RF)\n",
    "# accuracy_train = round(accuracy_train * 100, 3)\n",
    "\n",
    "print(\"Test Accuracy from RF and Scaling with Sparse Matrix:\", accuracy_test)\n",
    "print(\"Train Accuracy from RF and Scaling with Sparse Matrix:\", accuracy_train)"
   ]
  },
  {
   "cell_type": "code",
   "execution_count": 12,
   "metadata": {},
   "outputs": [
    {
     "name": "stdout",
     "output_type": "stream",
     "text": [
      "Test Accuracy from GB and Scaling with Sparse Matrix: 99.957\n",
      "Train Accuracy from GB and Scaling with Sparse Matrix: 1.0\n"
     ]
    }
   ],
   "source": [
    "GB_Model = GradientBoostingClassifier(n_estimators = 1000, criterion = 'squared_error', learning_rate = 0.1, loss = 'log_loss', max_depth = 10, max_features = 'sqrt', min_samples_split = 10, random_state = 42)\n",
    "GB_Model.fit(Scaled_X_Train, Y_Train)\n",
    "\n",
    "Y_GB = GB_Model.predict(Scaled_X_Test)\n",
    "Y_Train_Pred_GB = GB_Model.predict(Scaled_X_Train)\n",
    "\n",
    "accuracy_test = accuracy_score(Y_Test, Y_GB)\n",
    "accuracy_test = round(accuracy_test*100,3)\n",
    "\n",
    "accuracy_train = accuracy_score(Y_Train, Y_Train_Pred_GB)\n",
    "# accuracy_train = round(accuracy_train * 100, 3)\n",
    "\n",
    "print(\"Test Accuracy from GB and Scaling with Sparse Matrix:\", accuracy_test)\n",
    "print(\"Train Accuracy from GB and Scaling with Sparse Matrix:\", accuracy_train)"
   ]
  }
 ],
 "metadata": {
  "kernelspec": {
   "display_name": "Python 3",
   "language": "python",
   "name": "python3"
  },
  "language_info": {
   "codemirror_mode": {
    "name": "ipython",
    "version": 3
   },
   "file_extension": ".py",
   "mimetype": "text/x-python",
   "name": "python",
   "nbconvert_exporter": "python",
   "pygments_lexer": "ipython3",
   "version": "3.12.5"
  }
 },
 "nbformat": 4,
 "nbformat_minor": 2
}
