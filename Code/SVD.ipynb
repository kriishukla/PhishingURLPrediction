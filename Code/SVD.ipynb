{
 "cells": [
  {
   "cell_type": "code",
   "execution_count": 1,
   "metadata": {},
   "outputs": [],
   "source": [
    "# All the libraries involved.\n",
    "\n",
    "import pandas as pd\n",
    "import matplotlib.pyplot as plt\n",
    "import numpy as np\n",
    "\n",
    "from sklearn.ensemble import RandomForestClassifier, GradientBoostingClassifier\n",
    "from sklearn.model_selection import train_test_split, GridSearchCV\n",
    "from sklearn.metrics import accuracy_score"
   ]
  },
  {
   "cell_type": "code",
   "execution_count": 2,
   "metadata": {},
   "outputs": [
    {
     "data": {
      "text/html": [
       "<div>\n",
       "<style scoped>\n",
       "    .dataframe tbody tr th:only-of-type {\n",
       "        vertical-align: middle;\n",
       "    }\n",
       "\n",
       "    .dataframe tbody tr th {\n",
       "        vertical-align: top;\n",
       "    }\n",
       "\n",
       "    .dataframe thead th {\n",
       "        text-align: right;\n",
       "    }\n",
       "</style>\n",
       "<table border=\"1\" class=\"dataframe\">\n",
       "  <thead>\n",
       "    <tr style=\"text-align: right;\">\n",
       "      <th></th>\n",
       "      <th>URLLength</th>\n",
       "      <th>DomainLength</th>\n",
       "      <th>IsDomainIP</th>\n",
       "      <th>TLD</th>\n",
       "      <th>TLDLength</th>\n",
       "      <th>NoOfSubDomain</th>\n",
       "      <th>NoOfLettersInURL</th>\n",
       "      <th>NoOfDegitsInURL</th>\n",
       "      <th>NoOfEqualsInURL</th>\n",
       "      <th>NoOfQMarkInURL</th>\n",
       "      <th>...</th>\n",
       "      <th>NoOfiFrame</th>\n",
       "      <th>HasExternalFormSubmit</th>\n",
       "      <th>HasHiddenFields</th>\n",
       "      <th>HasPasswordField</th>\n",
       "      <th>Bank</th>\n",
       "      <th>Pay</th>\n",
       "      <th>Crypto</th>\n",
       "      <th>NoOfCSS</th>\n",
       "      <th>NoOfEmptyRef</th>\n",
       "      <th>label</th>\n",
       "    </tr>\n",
       "  </thead>\n",
       "  <tbody>\n",
       "    <tr>\n",
       "      <th>0</th>\n",
       "      <td>-0.891300</td>\n",
       "      <td>-1.437329</td>\n",
       "      <td>0</td>\n",
       "      <td>191</td>\n",
       "      <td>-1.449374</td>\n",
       "      <td>-1.934269</td>\n",
       "      <td>-0.789202</td>\n",
       "      <td>0.119473</td>\n",
       "      <td>-0.119462</td>\n",
       "      <td>-0.146444</td>\n",
       "      <td>...</td>\n",
       "      <td>-0.346864</td>\n",
       "      <td>0</td>\n",
       "      <td>0</td>\n",
       "      <td>0</td>\n",
       "      <td>0</td>\n",
       "      <td>0</td>\n",
       "      <td>0</td>\n",
       "      <td>-0.519592</td>\n",
       "      <td>-0.292089</td>\n",
       "      <td>0</td>\n",
       "    </tr>\n",
       "    <tr>\n",
       "      <th>1</th>\n",
       "      <td>0.019356</td>\n",
       "      <td>0.603674</td>\n",
       "      <td>0</td>\n",
       "      <td>179</td>\n",
       "      <td>0.524801</td>\n",
       "      <td>-0.250327</td>\n",
       "      <td>0.196725</td>\n",
       "      <td>-0.356586</td>\n",
       "      <td>-0.119462</td>\n",
       "      <td>-0.146444</td>\n",
       "      <td>...</td>\n",
       "      <td>-0.346864</td>\n",
       "      <td>0</td>\n",
       "      <td>0</td>\n",
       "      <td>0</td>\n",
       "      <td>0</td>\n",
       "      <td>0</td>\n",
       "      <td>0</td>\n",
       "      <td>-0.519592</td>\n",
       "      <td>-0.292089</td>\n",
       "      <td>0</td>\n",
       "    </tr>\n",
       "    <tr>\n",
       "      <th>2</th>\n",
       "      <td>0.360852</td>\n",
       "      <td>1.113925</td>\n",
       "      <td>0</td>\n",
       "      <td>179</td>\n",
       "      <td>0.524801</td>\n",
       "      <td>-0.250327</td>\n",
       "      <td>0.126302</td>\n",
       "      <td>1.071590</td>\n",
       "      <td>-0.119462</td>\n",
       "      <td>-0.146444</td>\n",
       "      <td>...</td>\n",
       "      <td>-0.346864</td>\n",
       "      <td>0</td>\n",
       "      <td>1</td>\n",
       "      <td>0</td>\n",
       "      <td>1</td>\n",
       "      <td>1</td>\n",
       "      <td>0</td>\n",
       "      <td>-0.225707</td>\n",
       "      <td>-0.292089</td>\n",
       "      <td>0</td>\n",
       "    </tr>\n",
       "    <tr>\n",
       "      <th>3</th>\n",
       "      <td>0.360852</td>\n",
       "      <td>1.241488</td>\n",
       "      <td>0</td>\n",
       "      <td>112</td>\n",
       "      <td>0.524801</td>\n",
       "      <td>-0.250327</td>\n",
       "      <td>0.619265</td>\n",
       "      <td>-0.356586</td>\n",
       "      <td>-0.119462</td>\n",
       "      <td>-0.146444</td>\n",
       "      <td>...</td>\n",
       "      <td>-0.346864</td>\n",
       "      <td>0</td>\n",
       "      <td>0</td>\n",
       "      <td>0</td>\n",
       "      <td>0</td>\n",
       "      <td>0</td>\n",
       "      <td>0</td>\n",
       "      <td>-0.519592</td>\n",
       "      <td>-0.292089</td>\n",
       "      <td>0</td>\n",
       "    </tr>\n",
       "    <tr>\n",
       "      <th>4</th>\n",
       "      <td>-0.549804</td>\n",
       "      <td>-0.671953</td>\n",
       "      <td>0</td>\n",
       "      <td>179</td>\n",
       "      <td>0.524801</td>\n",
       "      <td>1.433615</td>\n",
       "      <td>-0.648355</td>\n",
       "      <td>-0.118556</td>\n",
       "      <td>-0.119462</td>\n",
       "      <td>-0.146444</td>\n",
       "      <td>...</td>\n",
       "      <td>-0.346864</td>\n",
       "      <td>0</td>\n",
       "      <td>0</td>\n",
       "      <td>0</td>\n",
       "      <td>0</td>\n",
       "      <td>0</td>\n",
       "      <td>0</td>\n",
       "      <td>-0.519592</td>\n",
       "      <td>-0.292089</td>\n",
       "      <td>0</td>\n",
       "    </tr>\n",
       "  </tbody>\n",
       "</table>\n",
       "<p>5 rows × 34 columns</p>\n",
       "</div>"
      ],
      "text/plain": [
       "   URLLength  DomainLength  IsDomainIP  TLD  TLDLength  NoOfSubDomain  \\\n",
       "0  -0.891300     -1.437329           0  191  -1.449374      -1.934269   \n",
       "1   0.019356      0.603674           0  179   0.524801      -0.250327   \n",
       "2   0.360852      1.113925           0  179   0.524801      -0.250327   \n",
       "3   0.360852      1.241488           0  112   0.524801      -0.250327   \n",
       "4  -0.549804     -0.671953           0  179   0.524801       1.433615   \n",
       "\n",
       "   NoOfLettersInURL  NoOfDegitsInURL  NoOfEqualsInURL  NoOfQMarkInURL  ...  \\\n",
       "0         -0.789202         0.119473        -0.119462       -0.146444  ...   \n",
       "1          0.196725        -0.356586        -0.119462       -0.146444  ...   \n",
       "2          0.126302         1.071590        -0.119462       -0.146444  ...   \n",
       "3          0.619265        -0.356586        -0.119462       -0.146444  ...   \n",
       "4         -0.648355        -0.118556        -0.119462       -0.146444  ...   \n",
       "\n",
       "   NoOfiFrame  HasExternalFormSubmit  HasHiddenFields  HasPasswordField  Bank  \\\n",
       "0   -0.346864                      0                0                 0     0   \n",
       "1   -0.346864                      0                0                 0     0   \n",
       "2   -0.346864                      0                1                 0     1   \n",
       "3   -0.346864                      0                0                 0     0   \n",
       "4   -0.346864                      0                0                 0     0   \n",
       "\n",
       "   Pay  Crypto   NoOfCSS  NoOfEmptyRef  label  \n",
       "0    0       0 -0.519592     -0.292089      0  \n",
       "1    0       0 -0.519592     -0.292089      0  \n",
       "2    1       0 -0.225707     -0.292089      0  \n",
       "3    0       0 -0.519592     -0.292089      0  \n",
       "4    0       0 -0.519592     -0.292089      0  \n",
       "\n",
       "[5 rows x 34 columns]"
      ]
     },
     "execution_count": 2,
     "metadata": {},
     "output_type": "execute_result"
    }
   ],
   "source": [
    "dataset = pd.read_csv('../Datasets/data_with_normalization.csv') # Data already normalized pre-midsem.\n",
    "\n",
    "# Removing the non-numerical columns\n",
    "dataset = dataset.drop(columns=['URL', 'Domain', 'Title'])\n",
    "dataset.head()"
   ]
  },
  {
   "cell_type": "code",
   "execution_count": 3,
   "metadata": {},
   "outputs": [],
   "source": [
    "feature_vars = dataset.columns.to_list()\n",
    "feature_vars.remove('label')\n",
    "target_var = 'label'\n",
    "\n",
    "X = dataset[feature_vars].to_numpy()\n",
    "Y = dataset[target_var].to_numpy()\n",
    "\n",
    "# Splitting into Train and Test\n",
    "X_Train, X_Test, Y_Train, Y_Test = train_test_split(X, Y, test_size = 0.3, random_state = 42, stratify = Y)"
   ]
  },
  {
   "cell_type": "code",
   "execution_count": 4,
   "metadata": {},
   "outputs": [],
   "source": [
    "# use Singular Value Decomposition to reduce the number of features\n",
    "from sklearn.decomposition import TruncatedSVD\n",
    "svd = TruncatedSVD(n_components=10)\n",
    "X_Train = svd.fit_transform(X_Train)\n",
    "X_Test = svd.transform(X_Test)"
   ]
  },
  {
   "cell_type": "code",
   "execution_count": 5,
   "metadata": {},
   "outputs": [
    {
     "data": {
      "text/plain": [
       "(130158, 10)"
      ]
     },
     "execution_count": 5,
     "metadata": {},
     "output_type": "execute_result"
    }
   ],
   "source": [
    "X_Train.shape"
   ]
  },
  {
   "cell_type": "code",
   "execution_count": 6,
   "metadata": {},
   "outputs": [
    {
     "data": {
      "text/plain": [
       "(55782, 10)"
      ]
     },
     "execution_count": 6,
     "metadata": {},
     "output_type": "execute_result"
    }
   ],
   "source": [
    "X_Test.shape"
   ]
  },
  {
   "cell_type": "code",
   "execution_count": 7,
   "metadata": {},
   "outputs": [
    {
     "name": "stdout",
     "output_type": "stream",
     "text": [
      "Random Forest Classifier Accuracy:  0.9959305869276828\n",
      "RF Train 1.0\n"
     ]
    }
   ],
   "source": [
    "# Random Forest Classifier\n",
    "rf = RandomForestClassifier(n_estimators = 1000, criterion = 'log_loss', max_depth = 30, max_features = 'sqrt', min_samples_leaf = 1, min_samples_split = 2, n_jobs = -1, random_state = 42)\n",
    "rf.fit(X_Train, Y_Train)\n",
    "Y_Pred = rf.predict(X_Test)\n",
    "Y_train_pred = rf.predict(X_Train)\n",
    "print(\"Random Forest Classifier Accuracy: \", accuracy_score(Y_Test, Y_Pred))\n",
    "print(\"RF Train\", accuracy_score(Y_Train, Y_train_pred))"
   ]
  },
  {
   "cell_type": "code",
   "execution_count": 8,
   "metadata": {},
   "outputs": [
    {
     "name": "stdout",
     "output_type": "stream",
     "text": [
      "Gradient Boosting Classifier Accuracy:  0.9966835179807106\n",
      "GB Train 1.0\n"
     ]
    }
   ],
   "source": [
    "# Gradient Boosting Classifier\n",
    "from tqdm import tqdm\n",
    "\n",
    "gb = GradientBoostingClassifier(n_estimators = 1000, criterion = 'squared_error', learning_rate = 0.1, loss = 'log_loss', max_depth = 10, max_features = 'sqrt', min_samples_split = 10, random_state = 42)\n",
    "gb.fit(X_Train, Y_Train)\n",
    "Y_Pred = gb.predict(X_Test)\n",
    "Y_train_pred = gb.predict(X_Train)\n",
    "print(\"Gradient Boosting Classifier Accuracy: \", accuracy_score(Y_Test, Y_Pred))\n",
    "print(\"GB Train\", accuracy_score(Y_Train, Y_train_pred))"
   ]
  },
  {
   "cell_type": "code",
   "execution_count": null,
   "metadata": {},
   "outputs": [],
   "source": []
  }
 ],
 "metadata": {
  "kernelspec": {
   "display_name": "Python 3",
   "language": "python",
   "name": "python3"
  },
  "language_info": {
   "codemirror_mode": {
    "name": "ipython",
    "version": 3
   },
   "file_extension": ".py",
   "mimetype": "text/x-python",
   "name": "python",
   "nbconvert_exporter": "python",
   "pygments_lexer": "ipython3",
   "version": "3.12.5"
  }
 },
 "nbformat": 4,
 "nbformat_minor": 2
}
